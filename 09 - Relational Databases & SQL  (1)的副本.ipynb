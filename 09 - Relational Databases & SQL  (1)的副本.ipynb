{
 "cells": [
  {
   "cell_type": "markdown",
   "id": "36f2419d",
   "metadata": {},
   "source": [
    "# Housekeeping\n",
    "\n",
    "* Project pairs will be in Courseworks by tomorrow morning. If you don't have a partner, you'll have one by tomorrow. One group might have 3 people!\n",
    "* Final exam: **Monday Dec 19th 7:10pm - 10pm in Schemerhorn 614**. I will post a practice exam in the next week or two.\n",
    "* Final project: see update in the [project doc](https://docs.google.com/document/d/1VERPjEZcC1XSs4-02aM-DbkNr_yaJVbFjLJxaYQswqA/edit#) under \"Datasets\" about how to handle the `shp` file (if you were having issues loading it)"
   ]
  },
  {
   "cell_type": "markdown",
   "id": "6143ebe9",
   "metadata": {},
   "source": [
    "# Module 09 - Relational Databases and SQL\n",
    "\n",
    "Like regular expressions, relational databases can be used both from within Python as well as within other programs. Focus on learning the SQL language which we'll be executing from within Python in order to make use of the notebook environment, but we'll see examples of doing so externally as well.\n",
    "\n",
    "You are undoubtedly familiar with spreadsheets, likely via Microsoft Excel, Google Sheets or Apple's Numbers app as a way of organizing tables of related data -- a spreadsheet often contains columns which are \"attributes\" or individual kinds of data we want to store about one or more rows, which represent each individual entry. A program like Excel then allows us to compute, lookup or use values from this table.\n",
    "\n",
    "As an example:\n",
    "\n",
    "|Name            |Phone         |Phone Type|Phone 2       |Phone 2 Type|Email              |\n",
    "|----------------|--------------|----------|--------------|------------|-------------------|\n",
    "|Peter Parker    |(212) 555-1212|Home      |(917) 555-0101|Mobile      |peter@example.edu   |\n",
    "|Claire Boyle    |+34987793816  |Home      |              |            |claireb@example.com|\n",
    "|Sonia Winters   |7185550404    |Mobile    |              |            |swinters@example.edu   |\n",
    "|Fallon Wilkes   |+12125550505  |Mobile    |              |            |fallon@example.com    |\n",
    "|Henry Douglas   |              |          |              |            |henryd@example.edu   |\n",
    "|Danny Reese     |              |          |              |            |                   |"
   ]
  },
  {
   "cell_type": "code",
   "execution_count": null,
   "id": "e481bd89",
   "metadata": {},
   "outputs": [],
   "source": [
    "\n",
    "\n",
    "\n",
    "\n"
   ]
  },
  {
   "cell_type": "markdown",
   "id": "61453058",
   "metadata": {},
   "source": [
    "Here we see some contacts we may want to keep track of. For each contact we have possibly some phone numbers, and an email address. For some contacts we have only partial data, as we potentially would normally if we didn't know someone's full details (or if they didn't have multiple phone numbers).\n",
    "\n",
    "A spreadsheet (or Excel/Sheets specifically) is often a great tool for doing this quickly and easily in a shareable way -- but we can outgrow them if:\n",
    "\n",
    "* we have large (hundreds of thousands, millions, or more) numbers of rows\n",
    "* we have large numbers of people simultaneously editing or reading our data\n",
    "* we want to apply more powerful programming language techniques available to us from Python to our dataset\n",
    "* we want to more effectively represent the _structure_ of our data\n",
    "\n",
    "Here are some examples of structure inherent (but perhaps not well represented) in our above example:\n",
    "\n",
    "* What happens if someone has more than 2 phone numbers? Where will we store these additional data?\n",
    "* What happens if someone has more than one email address?\n",
    "* Is there any implied meaning in the 2 phone number columns? If someone has only one phone number, will it always be in the first phone number columns?"
   ]
  },
  {
   "cell_type": "markdown",
   "id": "c07c0913",
   "metadata": {},
   "source": [
    "---\n",
    "\n",
    "### Why not Excel?\n",
    "\n",
    "Excel (and related apps) are not powerful enough if any of the following apply:\n",
    "\n",
    "* You have a significant amount lot of entries (rows) – in the 100s of thousands or more\n",
    "* You have many people needing to read and/or write data simultaneously\n",
    "* You want to read and/or manipulate data using a programming language, like Python or SQL\n",
    "* You want to represent the _structure_ of your data more effectively, for example:\n",
    "    * Some contacts have 3+ phone numbers?\n",
    "    * Some contacts have 2+ email addresses?\n",
    "    * What does it mean for someone to have more than one phone number? Is one work and another home? Does that apply to everyone with more than one phone number?\n",
    "    \n",
    "---"
   ]
  },
  {
   "cell_type": "markdown",
   "id": "9ae908d4",
   "metadata": {},
   "source": [
    "Beyond the questions above which relate to the _representation_ of our data, so far we have strictly dealt with _in-memory_ or transient objects (for instance in the context of our Object Oriented Programming module) -- meaning, we know how to model our data as objects, but we never saved them anywhere so that they \"live\" beyond the current run of our program. Any real address book should allow us to _durably and reliably store and retrieve entries_ even if our Python program exits. We also may want multiple people to simultaneously be able to query, insert, or retrieve contacts at the same time as above.\n",
    "\n",
    "Databases are essentially the most common ways to address some of the above, and relational databases in particular are tried and true pieces of technology for modeling _relationships_ between different entities in a reliable and efficient way."
   ]
  },
  {
   "cell_type": "markdown",
   "id": "e3f50515",
   "metadata": {},
   "source": [
    "## 9.1 Databases"
   ]
  },
  {
   "cell_type": "markdown",
   "id": "37be82d9",
   "metadata": {},
   "source": [
    "### What is a database\n",
    "\n",
    "A database is an application for storing and retrieving data. Although the \"hows\" can differ, most types databases provide a mechanism that allows users to add, delete, access, search, and manage their data. \n",
    "\n",
    "As an alternative to using a database, data can be stored in text files or hash tables. However, this technique is not as fast or as convenient as using a database and is rarely used in modern systems.\n",
    "\n",
    "A database is a collection of information stored within a computer. Databases are used for everything from storing pictures on your computer to buying items online and analyzing the stock market. Databases allow computers to store essential information in an organized and easily searchable way.\n",
    "\n",
    "There are a few different types of databases, but the one that we care about – and one of the most popular/often-used – is what's called the _relational_ database. \n",
    "\n",
    "A relational database allows us to store data in multiple _tables_, rather just one big table with lots of columns describing our data.\n",
    "\n",
    "When we create a database, we organize data in terms of tables, columns, and rows. A row is also referred to as a record, or tuple."
   ]
  },
  {
   "cell_type": "markdown",
   "id": "d9d0e274",
   "metadata": {},
   "source": [
    "### Vocab: **DBMS** - Database Management System\n",
    "\n",
    "A **DBMS** is the actual software that interacts with end users, applications, and the database itself to capture and analyze the data.\n",
    "\n",
    "Often, the term **database** is used loosely/interchangeably with **database management system**. However, **database** is also used to refer to an actual **database instance** of stored data. _(It's as if the term \"Excel\" was used for both the software and an actual individual spreadsheet.)_\n",
    "\n",
    "\n",
    "Types of DBMSs: SQLite, MySQL, PostgreSQL (often pronounced \"postgres\"), Microsoft SQL Server, and others. \n",
    "\n",
    "\n",
    "### Vocab: **Table**\n",
    "\n",
    "A **table** is a collection of related data stored in a table format, also referred to as a **relation**. Very similar to an individual tab/spreadsheet in a spreadsheet document. A database is a collection of tables, similar to an Excel document is a collection of spreadsheets.\n",
    "\n",
    "Our initial example above would be considered a table.\n",
    "\n",
    "### Vocab: **Row**\n",
    "\n",
    "Within a table, there are **rows**, also referred to as a **record** or a **tuple**. A row is a dataset representing a single item. Much like a row in a spreadsheet.\n",
    "\n",
    "With our initial example, a row would be `(\"Peter Parker\", \"(212) 555-1212\", \"Home\", \"(917) 555-0101\", \"Mobile\", \"peter@example.edu\")`.\n",
    "\n",
    "### Vocab: **Column**\n",
    "\n",
    "Within a table, there are **columns**, also referred to as a **field** or an **attribute**. A column is a labeled element of a row. Much like a column in a spreadsheet.\n",
    "\n",
    "With our initial example, a column would be the `name`, or the `phone` number or `email address` of our contacts.\n"
   ]
  },
  {
   "cell_type": "markdown",
   "id": "c6dd6cf7",
   "metadata": {},
   "source": [
    "### Visual: Table, Rows, Columns\n",
    "\n",
    "![](https://miro.medium.com/max/736/0*kBYg1f1lVSFE5cY6.PNG)"
   ]
  },
  {
   "cell_type": "markdown",
   "id": "c21e15be",
   "metadata": {},
   "source": [
    "### Vocab: **Schema**\n",
    "\n",
    "A **schema** describes the structure and organization of data in a database (or specifically a table). It's the blueprint.\n",
    "\n",
    "The schema for our example above would be something like:\n",
    "\n",
    "```sql\n",
    "CREATE TABLE contacts (\n",
    "    name TEXT,\n",
    "    phone TEXT,\n",
    "    phone_type TEXT,\n",
    "    phone2 TEXT,\n",
    "    phone2_type TEXT,\n",
    "    email TEXT\n",
    ")\n",
    "```\n",
    "\n",
    "A schema defines the table name, the column names, the data type associated with each column name (in our case, all text), and any primary and foreign keys."
   ]
  },
  {
   "cell_type": "markdown",
   "id": "73ff50aa",
   "metadata": {},
   "source": [
    "### Vocab: **Relational**\n",
    "\n",
    "A classification of a database management system is **relational** (**RDBMS**). An RDBMS is considered to be relational because it allows users to define relationships within and between the various tables using keys and indices.\n",
    "\n",
    "### Vocab: **Primary Key**\n",
    "\n",
    "Every table has a **primary key**. A **primary key** is a particular column in a table that uniquely specifies a record or a row within a table.\n",
    "\n",
    "### Vocab: **Foreign Key**\n",
    "\n",
    "A **foreign key** refers to a column or field in a table that matches the primary key column of another table. A foreign key creates a relationship between the two tables.\n",
    "\n",
    "### Visual: Primary Key, Foreign Key, Relational\n",
    "\n",
    "![](https://www.pragimtech.com/blog/contribute/article_images/2220211210231003/what-is-a-relational-database.jpg)"
   ]
  },
  {
   "cell_type": "markdown",
   "id": "f6c31858",
   "metadata": {},
   "source": [
    "### Vocab: Database **Server** and **Client**\n",
    "\n",
    "![](https://www.w3resource.com/w3r_images/sql-works-with-rdbms.gif)\n",
    "\n",
    "A database has a **server** that \"hosts\" the database and its data. A server allows an outside **client** to interact with the data. Much like how we can interact with websites on some random server to download interesting data, a database has its own server that allows us to interact with data that may be hosted elsewhere. And we use a database client on our end to do the interacting."
   ]
  },
  {
   "cell_type": "markdown",
   "id": "f688a967",
   "metadata": {},
   "source": [
    "## 9.2 The SQL Language\n",
    "\n",
    "We've just started to learn the Python programming language, which we will return to in the next lecture. But working with data often requires some knowledge and comfort with another language, called SQL.\n",
    "\n",
    "SQL (pronounced \"sequel\" or S.Q.L.) is what's referred to as a \"domain-specific langauge\" (instead of a general purpose language, like Python). It's designed for working with relational databases. SQL itself has been around for almost 50 years, and it might look a bit archaic. \n",
    "\n",
    "You don't need to know a lot of SQL for it to be useful to you. Especially when you can enhance it with the use of Python. With that, however, this lecture won't be able to cover _everything_ that will be helpful to know, particularly for the final project. At the bottom of the lecture notes, there are a few tips and links to point you in the right (exact) direction to help you out.\n",
    "\n",
    "#### What are we using `SQL` for?\n",
    "\n",
    "We're using `SQL` to actually interact with our relational database. We use it to create, define, modify, and delete our database tables, and those tables' schemas. We'll also use `SQL` to populate our tables with data, and then query our database to answer questions we have of our data."
   ]
  },
  {
   "cell_type": "markdown",
   "id": "d05e199d",
   "metadata": {},
   "source": [
    "#### Note! We're still using Python!\n",
    "\n",
    "While we are learning SQL, we are using Python as a go-between for our SQL code and our database.\n",
    "\n",
    "Let's get started!"
   ]
  },
  {
   "cell_type": "markdown",
   "id": "73d07bd5",
   "metadata": {},
   "source": [
    "### 9.2.1 Creating a Database\n",
    "\n",
    "We're going to dive right in with first creating our own database, add data to our database, and then query it\n",
    "\n",
    "We're using Python's `sqlite3` module (often verbally said like \"sequel-light\", without the `3` at the end), then we create a database simply by creating a connection to it:"
   ]
  },
  {
   "cell_type": "code",
   "execution_count": 1,
   "id": "3312f43a",
   "metadata": {},
   "outputs": [
    {
     "data": {
      "text/plain": [
       "<sqlite3.Connection at 0x1053dbb40>"
      ]
     },
     "execution_count": 1,
     "metadata": {},
     "output_type": "execute_result"
    }
   ],
   "source": [
    "import sqlite3\n",
    "connection = sqlite3.connect(\"contacts.db\")\n",
    "connection"
   ]
  },
  {
   "cell_type": "markdown",
   "id": "7096e872",
   "metadata": {},
   "source": [
    "The `connect` function call creates an actual database - it's a file on your filesystem. After executing the above, you should be able to see it next to wherever you're running your lecture notes.\n",
    "\n",
    "To show you, you can run the following code to see a list of your current working directory, with `contacts.db` among the items:"
   ]
  },
  {
   "cell_type": "code",
   "execution_count": 2,
   "id": "c1de7dca",
   "metadata": {},
   "outputs": [
    {
     "data": {
      "text/plain": [
       "['.DS_Store',\n",
       " '09 - Lecture.ipynb',\n",
       " 'contacts.db',\n",
       " '.ipynb_checkpoints',\n",
       " '09 - Relational Databases & SQL .ipynb']"
      ]
     },
     "execution_count": 2,
     "metadata": {},
     "output_type": "execute_result"
    }
   ],
   "source": [
    "import os\n",
    "\n",
    "os.listdir(os.getcwd())"
   ]
  },
  {
   "cell_type": "markdown",
   "id": "5ecd4cc8",
   "metadata": {},
   "source": [
    "### 9.2.2 Creating Tables\n",
    "We're now going to create our first _table_ in our database -- we've noted above that storing phone numbers in separate columns alongside each contact is a bit inflexible. It makes it hard to guess how many columns we'll need, or to rely on which column contains the data we want.\n",
    "\n",
    "Let's first focus on the columns or attributes we know we want on every contact -- their name and email. We'll come back to phone numbers shortly.\n",
    "\n",
    "Here's our first piece of SQL below, which will create a database _table_ for representing our contacts.\n",
    "\n",
    "\n",
    "_Note: We typically write SQL using UPPERCASE LETTERS for the language's keywords, and lowercase letters for our arguments, like a table name, column name, etc._\n",
    "\n",
    "_Note: Whitespace and case-sensitivity is generally not an issue in SQL._\n"
   ]
  },
  {
   "cell_type": "code",
   "execution_count": 3,
   "id": "50efaf44",
   "metadata": {},
   "outputs": [],
   "source": [
    "# use a Python string to define a sql statement\n",
    "SQL_STMT = \"\"\"\n",
    "CREATE TABLE IF NOT EXISTS contacts\n",
    "(\n",
    "    id INTEGER PRIMARY KEY,\n",
    "    name TEXT,\n",
    "    email TEXT\n",
    ")\n",
    "\"\"\""
   ]
  },
  {
   "cell_type": "code",
   "execution_count": 4,
   "id": "af6a8342",
   "metadata": {},
   "outputs": [],
   "source": [
    "# then execute the statement:\n",
    "with connection:\n",
    "    connection.execute(SQL_STMT)"
   ]
  },
  {
   "cell_type": "markdown",
   "id": "60bd5b66",
   "metadata": {},
   "source": [
    "There's a lot to unpack in the statement we just ran.\n",
    "\n",
    "First, on the Python side, we are using the `sqlite3.Connection.execute` method which executes SQL on our database. We'll continue to use it throughout this notebook. It executes _one_ SQL statement at a time.\n",
    "\n",
    "The `CREATE TABLE` SQL statement is how one creates tables, and is often run once by a database administrator. Other database users then will make use of these tables after they are created. In the Excel analogy alluded to above, a table is somewhat like an individual spreadsheet.\n",
    "\n",
    "When creating a table we specify a **schema** for the table -- the schema consists of:\n",
    "\n",
    "* which columns we want the table to have (which correspond here to what values we want for each contact)\n",
    "* what types each of the columns have (for SQLite the types we can use are [here](https://www.sqlite.org/datatype3.html))\n",
    "* any columns which are somehow special -- in the above, we have a column which is a _primary key_ -- this acts as a sort of unique identifier for the row in our database. In Excel this might always be a row number in the spreadsheet, but in a database you'll see we have more flexibility to _use_ these key values, and they don't change like a row number might if we reordered the row.\n",
    "\n",
    "_Note: the complete contents of the above `SQL_STMT` is what's considered a table's schema. Being able to write these schemas will be useful for the final project._"
   ]
  },
  {
   "cell_type": "markdown",
   "id": "48bff74c",
   "metadata": {},
   "source": [
    "### 9.2.3 Inserting Data\n",
    "\n",
    "Let's see how we use this new table by inserting some of the data above into our database:"
   ]
  },
  {
   "cell_type": "code",
   "execution_count": 5,
   "id": "4db2d6d6",
   "metadata": {},
   "outputs": [
    {
     "name": "stdout",
     "output_type": "stream",
     "text": [
      "1\n"
     ]
    }
   ],
   "source": [
    "# we could extract the SQL statement into a Python string, too\n",
    "\n",
    "with connection:\n",
    "    result = connection.execute(\n",
    "        \"\"\"\n",
    "        INSERT INTO contacts (name, email)\n",
    "        VALUES\n",
    "            (\"Peter Parker\", \"peter@example.edu\")\n",
    "        \"\"\"\n",
    "    )\n",
    "    \n",
    "    # The \"row count\" is how many rows our query affected\n",
    "    print(result.rowcount)"
   ]
  },
  {
   "cell_type": "markdown",
   "id": "1491262d",
   "metadata": {},
   "source": [
    "Notice we didn't need to specify a value for the `id` column ourselves -- the database (`sqlite`) has done so for us, assigning an incrementing integer to each row.\n",
    "\n",
    "#### Consider\n",
    "What might assigning a permanent ID for a contact be good for?"
   ]
  },
  {
   "cell_type": "markdown",
   "id": "dbd67313",
   "metadata": {},
   "source": [
    "### 9.2.4 Querying\n",
    "Retrieving back this row from the database is done via the `SELECT` SQL statement -- undoubtedly the most common and critical statement to learn and use well!\n",
    "\n",
    "We `SELECT` a set of rows we want to see by writing a _query_ which indicates which rows we care about, and which columns of the result we wish to see."
   ]
  },
  {
   "cell_type": "code",
   "execution_count": 6,
   "id": "76484df5",
   "metadata": {},
   "outputs": [
    {
     "name": "stdout",
     "output_type": "stream",
     "text": [
      "(1, 'Peter Parker', 'peter@example.edu')\n"
     ]
    }
   ],
   "source": [
    "with connection:\n",
    "    result = connection.execute(\"SELECT * FROM contacts\")\n",
    "\n",
    "# we get back an *iterable of tuples*, one for each row\n",
    "for row in result:\n",
    "    print(row)"
   ]
  },
  {
   "cell_type": "markdown",
   "id": "913cd959",
   "metadata": {},
   "source": [
    "The `*` in the above query represents \"all columns\". \n",
    "\n",
    "The resulting rows that we received is called a **result table** or **result set**. Our result table here only has one row of data.\n",
    "\n",
    "Instead of grabbing all columns, we can instead list some explicit columns if we'd like. Here perhaps is how we'd get a list of our (one) contact name:"
   ]
  },
  {
   "cell_type": "code",
   "execution_count": 7,
   "id": "d61d8ef7",
   "metadata": {},
   "outputs": [
    {
     "name": "stdout",
     "output_type": "stream",
     "text": [
      "Peter Parker\n"
     ]
    }
   ],
   "source": [
    "with connection:\n",
    "    result = connection.execute(\"SELECT name FROM contacts\")\n",
    "\n",
    "for name, in result:\n",
    "    print(name)"
   ]
  },
  {
   "cell_type": "markdown",
   "id": "aadbd5d2",
   "metadata": {},
   "source": [
    "**When would we query for select columns, rather than just grab all the columns?** While it may be easiest to just `SELECT * FROM ...`, it can be a really expensive query to run. Maybe your table has 100s of columns, but you only actually need 3 of those columns. Maybe you have millions and millions of rows, and only need 3 columns, you'd have asked for a lot more data when not limiting to only the columns you need. \n",
    "\n",
    "Often times, you'll run a `SELECT *` query to get familiar with a new database. When you do this, add a `LIMIT 10` or `LIMIT 100` (or some other small number) to limit the amount of data being returned. More on limiting [below](#Limiting)."
   ]
  },
  {
   "cell_type": "markdown",
   "id": "6ae947b1",
   "metadata": {},
   "source": [
    "When we wrote our SQL above, we \"hard-coded\" a value into the SQL query we ran -- specifically the name and email we wanted to insert. Much more often we'll have a value we want to insert that comes from a Python object -- one that we retrieved from somewhere else, calculated or otherwise constructed. We can do that by providing _placeholders_ to the SQL query we run. Here's how to do so with `INSERT`, once again inserting Peter into our database:"
   ]
  },
  {
   "cell_type": "code",
   "execution_count": 8,
   "id": "80447f92",
   "metadata": {},
   "outputs": [],
   "source": [
    "name = \" \".join([\"Peter\", \"Parker\"])\n",
    "email = \"@\".join([\"peter\", \"example.edu\"])\n",
    "\n",
    "with connection:\n",
    "    result = connection.execute(\n",
    "        \"INSERT INTO contacts (name, email) VALUES (?, ?)\",\n",
    "        (name, email),\n",
    "    )"
   ]
  },
  {
   "cell_type": "markdown",
   "id": "28681020",
   "metadata": {},
   "source": [
    "Note that what we've done in this notebook, unlike previous examples, is _persistent_ -- even if you restart the Jupyter \"kernel\", or your whole computer, the data we've saved above is present in the database and will be accessible or readable to us."
   ]
  },
  {
   "cell_type": "code",
   "execution_count": 9,
   "id": "2dc9df03",
   "metadata": {},
   "outputs": [
    {
     "name": "stdout",
     "output_type": "stream",
     "text": [
      "(1, 'Peter Parker', 'peter@example.edu')\n",
      "(2, 'Peter Parker', 'peter@example.edu')\n"
     ]
    }
   ],
   "source": [
    "# just to show how many entries we have now\n",
    "with connection:\n",
    "    result = connection.execute(\"SELECT * FROM contacts\")\n",
    "\n",
    "# we get back an *iterable of tuples*, one for each row\n",
    "for row in result:\n",
    "    print(row)"
   ]
  },
  {
   "cell_type": "markdown",
   "id": "9d8ed844",
   "metadata": {},
   "source": [
    "If you've tried the above multiple times, you may now find you have multiple records for the same contact, so let's learn how to delete records. We do so using the `DELETE` SQL statement, one you should undoubtedly be very careful with! Some of the biggest mistakes one can make in practice are often cases where you `DELETE` more rows than you thought you were affecting. Confirming your queries with `SELECT` is the most basic way to ensure this does not happen to you.\n",
    "\n",
    "If we for instance wish to drop all rows named `\"Peter Parker\"` besides the first one, we might do so by dropping rows with `id != 1` -- let's first use `SELECT` with a new `WHERE` clause to confirm that gives us the rows we want:"
   ]
  },
  {
   "cell_type": "code",
   "execution_count": 10,
   "id": "406076f8",
   "metadata": {},
   "outputs": [
    {
     "name": "stdout",
     "output_type": "stream",
     "text": [
      "(2, 'Peter Parker', 'peter@example.edu')\n"
     ]
    }
   ],
   "source": [
    "QUERY = \"\"\"\n",
    "SELECT * \n",
    "FROM contacts \n",
    "WHERE \n",
    "    name = 'Peter Parker' \n",
    "    AND id != 1\n",
    "\"\"\"\n",
    "\n",
    "with connection:\n",
    "    result = connection.execute(QUERY)\n",
    "\n",
    "for row in result:\n",
    "    print(row)"
   ]
  },
  {
   "cell_type": "markdown",
   "id": "7dc119fb",
   "metadata": {},
   "source": [
    "If the above looks good, we can drop those rows to remove them from the table:"
   ]
  },
  {
   "cell_type": "code",
   "execution_count": 11,
   "id": "2729694c",
   "metadata": {},
   "outputs": [
    {
     "name": "stdout",
     "output_type": "stream",
     "text": [
      "1\n"
     ]
    }
   ],
   "source": [
    "# Note that the syntax is just DELETE FROM, \n",
    "# not DELETE * FROM -- we delete whole rows always\n",
    "\n",
    "DELETE_EXP = \"\"\"\n",
    "DELETE FROM contacts \n",
    "WHERE \n",
    "    name = 'Peter Parker' \n",
    "    AND id != 1\n",
    "\"\"\"\n",
    "\n",
    "with connection:  \n",
    "    result = connection.execute(DELETE_EXP)\n",
    "\n",
    "print(result.rowcount)"
   ]
  },
  {
   "cell_type": "markdown",
   "id": "dfbf8423",
   "metadata": {},
   "source": [
    "We can now confirm we have just one remaining row:"
   ]
  },
  {
   "cell_type": "code",
   "execution_count": 12,
   "id": "8d8f5f7c",
   "metadata": {},
   "outputs": [
    {
     "name": "stdout",
     "output_type": "stream",
     "text": [
      "(1, 'Peter Parker', 'peter@example.edu')\n"
     ]
    }
   ],
   "source": [
    "with connection:\n",
    "    result = connection.execute(\n",
    "        \"SELECT * FROM contacts WHERE name = 'Peter Parker'\"\n",
    "    )\n",
    "\n",
    "for row in result:\n",
    "    print(row)"
   ]
  },
  {
   "cell_type": "markdown",
   "id": "94cdd9e7",
   "metadata": {},
   "source": [
    "Running our `DELETE` expression again will has no effect (will have no rows in the result):"
   ]
  },
  {
   "cell_type": "code",
   "execution_count": 13,
   "id": "d47c61a8",
   "metadata": {},
   "outputs": [
    {
     "name": "stdout",
     "output_type": "stream",
     "text": [
      "0\n"
     ]
    }
   ],
   "source": [
    "with connection:\n",
    "    result = connection.execute(DELETE_EXP)\n",
    "\n",
    "print(result.rowcount)"
   ]
  },
  {
   "cell_type": "markdown",
   "id": "f750538e",
   "metadata": {},
   "source": [
    "Let's insert the rest of the data in our example table above. We can do that quickly for multiple rows using the `executemany` [method](https://docs.python.org/3/library/sqlite3.html#sqlite3.Connection.executemany) on our connection to insert multiple rows at once:"
   ]
  },
  {
   "cell_type": "code",
   "execution_count": 14,
   "id": "eee5ff6b",
   "metadata": {},
   "outputs": [
    {
     "name": "stdout",
     "output_type": "stream",
     "text": [
      "5\n"
     ]
    }
   ],
   "source": [
    "contact_list = [\n",
    "    (\"Claire Boyle\", \"claireb@example.com\"),\n",
    "    (\"Sonia Winters\", \"swinters@example.edu\"),\n",
    "    (\"Fallon Wilkes\", \"fallon@example.com\"),\n",
    "    (\"Henry Douglas\", \"henryd@example.edu\"),\n",
    "    (\"Danny Reese\", None),\n",
    "]\n",
    "\n",
    "INSERT_EXP = \"\"\"\n",
    "INSERT INTO contacts (name, email)\n",
    "VALUES (?, ?)\n",
    "\"\"\"\n",
    "\n",
    "with connection:\n",
    "    result = connection.executemany(\n",
    "        INSERT_EXP, contact_list\n",
    "    )\n",
    "print(result.rowcount)"
   ]
  },
  {
   "cell_type": "markdown",
   "id": "5f37e644",
   "metadata": {},
   "source": [
    "#### 9.2.4.1 More Filtering with `WHERE`"
   ]
  },
  {
   "cell_type": "markdown",
   "id": "098a930c",
   "metadata": {},
   "source": [
    "Notice in the above that for Danny, who has no known email, we use `None` to signal there's no value for the column -- in SQL, this will translate into a SQL value called `NULL` -- one which has very similar semantic meaning to `None` in Python.\n",
    "\n",
    "We can check for contacts with no email via a query like:"
   ]
  },
  {
   "cell_type": "code",
   "execution_count": 21,
   "id": "bd5e49a3",
   "metadata": {},
   "outputs": [
    {
     "name": "stdout",
     "output_type": "stream",
     "text": [
      "(6, 'Danny Reese', None)\n"
     ]
    }
   ],
   "source": [
    "with connection:\n",
    "    result = connection.execute(\n",
    "        \"SELECT * FROM contacts WHERE email IS NULL\"\n",
    "    )\n",
    "\n",
    "    for row in result:\n",
    "        print(row)"
   ]
  },
  {
   "cell_type": "markdown",
   "id": "e03d3637",
   "metadata": {},
   "source": [
    "Like in Python, when comparing with `NULL`, you use a SQL operator called `IS` -- though unlike in Python, using `=` or `==` will _not_ work (i.e. will not compare correctly).\n",
    "\n",
    "There are indeed many other filtering operations we can perform within a `WHERE` clause besides `=`, `IS NULL`, `!=` above. `LIKE` is an operator which is often useful for filtering string values.\n",
    "\n",
    "Here's for instance how you'd filter out rows whose email addresses end in `.edu`:"
   ]
  },
  {
   "cell_type": "code",
   "execution_count": 22,
   "id": "1b9ac376",
   "metadata": {},
   "outputs": [
    {
     "name": "stdout",
     "output_type": "stream",
     "text": [
      "Peter Parker peter@example.edu\n",
      "Sonia Winters swinters@example.edu\n",
      "Henry Douglas henryd@example.edu\n"
     ]
    }
   ],
   "source": [
    "with connection:\n",
    "    result = connection.execute(\n",
    "        \"SELECT name, email FROM contacts WHERE email LIKE '%.edu'\"\n",
    "    )\n",
    "\n",
    "for name, email in result:\n",
    "    print(name, email)"
   ]
  },
  {
   "cell_type": "markdown",
   "id": "fea8cc1c",
   "metadata": {},
   "source": [
    "The `%` in our `LIKE` is similar to using `.*` in a regular expression -- it will match any characters beforehand."
   ]
  },
  {
   "cell_type": "markdown",
   "id": "fd865554",
   "metadata": {},
   "source": [
    "#### 9.2.4.2 Ordering\n",
    "We also sometimes want to sort the results we get back. In a `SELECT` statement we can use a clause called `ORDER BY` to do so -- so if we'd like to retrieve our contacts in alphabetical order, we can do so via:"
   ]
  },
  {
   "cell_type": "code",
   "execution_count": 23,
   "id": "26b691e8",
   "metadata": {},
   "outputs": [
    {
     "name": "stdout",
     "output_type": "stream",
     "text": [
      "(2, 'Claire Boyle', 'claireb@example.com')\n",
      "(6, 'Danny Reese', None)\n",
      "(4, 'Fallon Wilkes', 'fallon@example.com')\n",
      "(5, 'Henry Douglas', 'henryd@example.edu')\n",
      "(1, 'Peter Parker', 'peter@example.edu')\n",
      "(3, 'Sonia Winters', 'swinters@example.edu')\n"
     ]
    }
   ],
   "source": [
    "with connection:\n",
    "    result = connection.execute(\"SELECT * FROM contacts ORDER BY name\")\n",
    "\n",
    "    for row in result:\n",
    "        print(row)"
   ]
  },
  {
   "cell_type": "markdown",
   "id": "c9d6ae79",
   "metadata": {},
   "source": [
    "where we can see we now have alphabetically ordered rows.\n",
    "\n",
    "If we want them in reversed-alphabetical order, we can add `DESC` (for \"descending\") to the end of our query (`ASC` for \"ascending\" is the default):"
   ]
  },
  {
   "cell_type": "code",
   "execution_count": 24,
   "id": "360c9d10",
   "metadata": {},
   "outputs": [
    {
     "name": "stdout",
     "output_type": "stream",
     "text": [
      "(3, 'Sonia Winters', 'swinters@example.edu')\n",
      "(1, 'Peter Parker', 'peter@example.edu')\n",
      "(5, 'Henry Douglas', 'henryd@example.edu')\n",
      "(4, 'Fallon Wilkes', 'fallon@example.com')\n",
      "(6, 'Danny Reese', None)\n",
      "(2, 'Claire Boyle', 'claireb@example.com')\n"
     ]
    }
   ],
   "source": [
    "with connection:\n",
    "    result = connection.execute(\n",
    "        \"SELECT * FROM contacts ORDER BY name DESC\"\n",
    "    )\n",
    "\n",
    "    for row in result:\n",
    "        print(row)"
   ]
  },
  {
   "cell_type": "markdown",
   "id": "c62c1bf5",
   "metadata": {},
   "source": [
    "We can also `ORDER BY` multiple columns:"
   ]
  },
  {
   "cell_type": "code",
   "execution_count": 25,
   "id": "216cd3b9",
   "metadata": {},
   "outputs": [
    {
     "name": "stdout",
     "output_type": "stream",
     "text": [
      "(2, 'Claire Boyle', 'claireb@example.com')\n",
      "(6, 'Danny Reese', None)\n",
      "(4, 'Fallon Wilkes', 'fallon@example.com')\n",
      "(5, 'Henry Douglas', 'henryd@example.edu')\n",
      "(1, 'Peter Parker', 'peter@example.edu')\n",
      "(3, 'Sonia Winters', 'swinters@example.edu')\n"
     ]
    }
   ],
   "source": [
    "with connection:\n",
    "    result = connection.execute(\n",
    "        \"SELECT * FROM contacts ORDER BY name, email DESC\"\n",
    "    )\n",
    "\n",
    "    for row in result:\n",
    "        print(row)"
   ]
  },
  {
   "cell_type": "markdown",
   "id": "5d8d2fda",
   "metadata": {},
   "source": [
    "#### 9.2.4.3 Limiting\n",
    "Though our current examples return relatively few rows, it's often useful to know how to limit the number of rows returned by a query. We can do so using the `LIMIT` clause:"
   ]
  },
  {
   "cell_type": "code",
   "execution_count": 26,
   "id": "1a4977f9",
   "metadata": {},
   "outputs": [
    {
     "name": "stdout",
     "output_type": "stream",
     "text": [
      "(1, 'Peter Parker', 'peter@example.edu')\n",
      "(2, 'Claire Boyle', 'claireb@example.com')\n",
      "(3, 'Sonia Winters', 'swinters@example.edu')\n"
     ]
    }
   ],
   "source": [
    "with connection:\n",
    "    result = connection.execute(\"SELECT * FROM contacts LIMIT 3\")\n",
    "\n",
    "    for row in result:\n",
    "        print(row)"
   ]
  },
  {
   "cell_type": "markdown",
   "id": "76cdc56f",
   "metadata": {},
   "source": [
    "The `LIMIT` will respect the `ORDER BY` of the query, so you can combine `LIMIT` with `ORDER BY` to get a limited number of queries within a certain order (as in, it will first order as told, then return only the `LIMIT` number):"
   ]
  },
  {
   "cell_type": "code",
   "execution_count": 27,
   "id": "1a96e471",
   "metadata": {},
   "outputs": [
    {
     "name": "stdout",
     "output_type": "stream",
     "text": [
      "(6, 'Danny Reese', None)\n",
      "(2, 'Claire Boyle', 'claireb@example.com')\n",
      "(4, 'Fallon Wilkes', 'fallon@example.com')\n"
     ]
    }
   ],
   "source": [
    "with connection:\n",
    "    result = connection.execute(\n",
    "        \"SELECT * FROM contacts ORDER BY email LIMIT 3\"\n",
    "    )\n",
    "\n",
    "    for row in result:\n",
    "        print(row)"
   ]
  },
  {
   "cell_type": "markdown",
   "id": "cd1e6134",
   "metadata": {},
   "source": [
    "Note that the `LIMIT` clause should come at the end."
   ]
  },
  {
   "cell_type": "markdown",
   "id": "bc2df8d0",
   "metadata": {},
   "source": [
    "#### 9.2.4.4 Transforming Values\n",
    "SQL's `SELECT` statement is not just useful for simple retrieval and filtering (via `WHERE`). It can also transform or even construct new columns:"
   ]
  },
  {
   "cell_type": "code",
   "execution_count": 29,
   "id": "824c2fad",
   "metadata": {},
   "outputs": [
    {
     "name": "stdout",
     "output_type": "stream",
     "text": [
      "('Peter Parker', 'PETER PARKER', 'lowercase: peter parker')\n",
      "('Claire Boyle', 'CLAIRE BOYLE', 'lowercase: claire boyle')\n",
      "('Sonia Winters', 'SONIA WINTERS', 'lowercase: sonia winters')\n",
      "('Fallon Wilkes', 'FALLON WILKES', 'lowercase: fallon wilkes')\n",
      "('Henry Douglas', 'HENRY DOUGLAS', 'lowercase: henry douglas')\n",
      "('Danny Reese', 'DANNY REESE', 'lowercase: danny reese')\n"
     ]
    }
   ],
   "source": [
    "with connection:\n",
    "    result = connection.execute(\n",
    "        \"\"\"\n",
    "        SELECT name,\n",
    "               UPPER(name),\n",
    "               \"lowercase: \" || LOWER(name)\n",
    "        FROM contacts\n",
    "        \"\"\"\n",
    "    )\n",
    "\n",
    "for row in result:\n",
    "    print(row)"
   ]
  },
  {
   "cell_type": "markdown",
   "id": "da33706e",
   "metadata": {},
   "source": [
    "In the above we've used some built in SQL _functions_ -- similar concepts to Python functions. Specifically we've made use of an `UPPER` and `LOWER` function (as well as string concatenation) to transform our contact names."
   ]
  },
  {
   "cell_type": "markdown",
   "id": "85a0b5d9",
   "metadata": {},
   "source": [
    "I want to call out, we **have not added a new column** to the table:"
   ]
  },
  {
   "cell_type": "code",
   "execution_count": 30,
   "id": "837eca46",
   "metadata": {},
   "outputs": [
    {
     "name": "stdout",
     "output_type": "stream",
     "text": [
      "(1, 'Peter Parker', 'peter@example.edu')\n",
      "(2, 'Claire Boyle', 'claireb@example.com')\n",
      "(3, 'Sonia Winters', 'swinters@example.edu')\n",
      "(4, 'Fallon Wilkes', 'fallon@example.com')\n",
      "(5, 'Henry Douglas', 'henryd@example.edu')\n",
      "(6, 'Danny Reese', None)\n"
     ]
    }
   ],
   "source": [
    "with connection:\n",
    "    result = connection.execute(\n",
    "        \"\"\"\n",
    "        SELECT *\n",
    "        FROM contacts\n",
    "        \"\"\"\n",
    "    )\n",
    "\n",
    "for row in result:\n",
    "    print(row)"
   ]
  },
  {
   "cell_type": "markdown",
   "id": "a986a0ba",
   "metadata": {},
   "source": [
    "We've just produced a **result table** or **result set** of the table with our query that adds a column."
   ]
  },
  {
   "cell_type": "markdown",
   "id": "ed6c20f0",
   "metadata": {},
   "source": [
    "But we know how to do the same thing directly in Python as well:"
   ]
  },
  {
   "cell_type": "code",
   "execution_count": 31,
   "id": "f876e70b",
   "metadata": {},
   "outputs": [
    {
     "name": "stdout",
     "output_type": "stream",
     "text": [
      "('Peter Parker', 'PETER PARKER', 'lowercase: Peter Parker')\n",
      "('Claire Boyle', 'CLAIRE BOYLE', 'lowercase: Claire Boyle')\n",
      "('Sonia Winters', 'SONIA WINTERS', 'lowercase: Sonia Winters')\n",
      "('Fallon Wilkes', 'FALLON WILKES', 'lowercase: Fallon Wilkes')\n",
      "('Henry Douglas', 'HENRY DOUGLAS', 'lowercase: Henry Douglas')\n",
      "('Danny Reese', 'DANNY REESE', 'lowercase: Danny Reese')\n"
     ]
    }
   ],
   "source": [
    "with connection:\n",
    "    result = connection.execute(\n",
    "        \"\"\"\n",
    "        SELECT name\n",
    "        FROM contacts\n",
    "        \"\"\"\n",
    "    )\n",
    "\n",
    "for name, in result:\n",
    "    print((name, name.upper(), f\"lowercase: {name.lower()}\"))"
   ]
  },
  {
   "cell_type": "markdown",
   "id": "929f4d72",
   "metadata": {},
   "source": [
    "The result is of course the same.\n",
    "\n",
    "Deciding whether to do a specific transformation can often be tricky or subjective. In many cases there are multiple ways to accomplish the same goal.\n",
    "\n",
    "Some guidance is:\n",
    "\n",
    "* do filtering and joining (discussed below) in the database often -- otherwise you often are sending data back and forth unnecessarily\n",
    "* do simple transformations in the database only for trivial cases and if you know how to do so, otherwise do them afterwards in Python\n",
    "* pick what looks most readable or understandable to you\n",
    "* optimize slow transformations or queries later!"
   ]
  },
  {
   "cell_type": "markdown",
   "id": "7d8f29db",
   "metadata": {},
   "source": [
    "### 9.2.5 Relationships\n",
    "Coming back to phone numbers, in a relational database, other than tables, the concept to be aware of is precisely the relationship -- we have here two nouns -- a contact or person, and that person **has** zero or more phone numbers. The word \"has\" in our description is often a hint we have a relationship between two different entities."
   ]
  },
  {
   "cell_type": "code",
   "execution_count": 32,
   "id": "ce55e153",
   "metadata": {},
   "outputs": [],
   "source": [
    "with connection:\n",
    "    connection.execute(\n",
    "        \"\"\"\n",
    "        CREATE TABLE IF NOT EXISTS phone_numbers\n",
    "        (\n",
    "            id INTEGER PRIMARY KEY,\n",
    "            contact_id INTEGER,\n",
    "            number TEXT,\n",
    "            type TEXT,\n",
    "            FOREIGN KEY(contact_id) REFERENCES contacts(id)\n",
    "        )\n",
    "        \"\"\"\n",
    "    )"
   ]
  },
  {
   "cell_type": "markdown",
   "id": "01e5d848",
   "metadata": {},
   "source": [
    "With the above, we've told our database that in addition to the `contacts` table we created above, we intend to store a second table `phone_numbers`, which _relates_ to our contacts via what is known as a _foreign key_ -- this database terminology effectively means that rows in the phone number table will reference a specific row in the `contacts` table -- in essence, a phone number _belongs to_ or _relates_ to a specific single contact.\n",
    "\n",
    "By separating out this relationship between contacts and their phone numbers we can actually now store 0 or more phone numbers for any contact we wish. Let's see how we insert phone numbers, which we can do for the contacts we've stored so far. Our first contact had two phone numbers -- to insert them we'll need their ID in the `contacts` table, because it's one of the columns in our phone number rows. We can get that value with a query, if we don't already know it."
   ]
  },
  {
   "cell_type": "code",
   "execution_count": 33,
   "id": "f533000b",
   "metadata": {},
   "outputs": [
    {
     "name": "stdout",
     "output_type": "stream",
     "text": [
      "Peter's id: 1\n"
     ]
    }
   ],
   "source": [
    "with connection:\n",
    "    row, = connection.execute(\n",
    "        \"SELECT id FROM contacts WHERE name = 'Peter Parker'\"\n",
    "    )\n",
    "    contact_id, = row\n",
    "    # notice we've now gotten this value in Python and can use it below!\n",
    "    print(f\"Peter's id: {contact_id}\")\n",
    "    connection.execute(\n",
    "        \"\"\"\n",
    "        INSERT INTO phone_numbers(contact_id, number, type)\n",
    "        VALUES (?, ?, ?)\n",
    "        \"\"\",\n",
    "        (contact_id, \"(212) 555-1212\", \"Home\"),\n",
    "    )"
   ]
  },
  {
   "cell_type": "markdown",
   "id": "cf26fefb",
   "metadata": {},
   "source": [
    "We can see we now have a phone number stored:"
   ]
  },
  {
   "cell_type": "code",
   "execution_count": 34,
   "id": "7a354aef",
   "metadata": {},
   "outputs": [
    {
     "name": "stdout",
     "output_type": "stream",
     "text": [
      "(1, 1, '(212) 555-1212', 'Home')\n"
     ]
    }
   ],
   "source": [
    "with connection:\n",
    "    for row in connection.execute(\"SELECT * FROM phone_numbers\"):\n",
    "        print(row)"
   ]
  },
  {
   "cell_type": "markdown",
   "id": "f4c864a2",
   "metadata": {},
   "source": [
    "Notice it can be a bit difficult for us to even _remember_ what the columns mean in the above.\n",
    "\n",
    "We can make it a bit easier on ourselves by using a bit of functionality in the Python `sqlite3` library which \"upgrades\" the tuples we get back when running a query into objects which remember things like the column names.\n",
    "\n",
    "We do so by running (once, usually just after opening a connection):"
   ]
  },
  {
   "cell_type": "code",
   "execution_count": 35,
   "id": "52c7a3d5",
   "metadata": {},
   "outputs": [],
   "source": [
    "connection.row_factory = sqlite3.Row"
   ]
  },
  {
   "cell_type": "markdown",
   "id": "e2c5faa4",
   "metadata": {},
   "source": [
    "Once we've done so, we can now write:"
   ]
  },
  {
   "cell_type": "code",
   "execution_count": 36,
   "id": "58bd7da4",
   "metadata": {},
   "outputs": [
    {
     "name": "stdout",
     "output_type": "stream",
     "text": [
      "(1): (212) 555-1212\n"
     ]
    }
   ],
   "source": [
    "with connection:\n",
    "    rows = connection.execute(\n",
    "        \"SELECT * FROM phone_numbers\"\n",
    "    )\n",
    "    for row in rows:\n",
    "        print(f\"({row['id']}): {row['number']}\")"
   ]
  },
  {
   "cell_type": "markdown",
   "id": "97caf8c3",
   "metadata": {},
   "source": [
    "i.e. we can now treat rows as Python `dict`s.\n",
    "\n",
    "Let's insert the rest of our phone numbers, similar to before, but now we want to do so for each corresponding entry by name -- it's tedious to have to manually look up each ID when we instead perhaps know the name of each contact. Luckily we can _nest_ SQL queries. Watch:"
   ]
  },
  {
   "cell_type": "code",
   "execution_count": 37,
   "id": "a2c1d228",
   "metadata": {},
   "outputs": [],
   "source": [
    "with connection:\n",
    "    result = connection.executemany(\n",
    "        \"\"\"\n",
    "        INSERT INTO phone_numbers (contact_id, number, type)\n",
    "        VALUES (\n",
    "          (SELECT id FROM contacts where name = ?),\n",
    "          ?,\n",
    "          ?\n",
    "        )\n",
    "        \"\"\", [\n",
    "            (\"Peter Parker\", \"(917) 555-0101\", \"Mobile\"),\n",
    "            (\"Claire Boyle\", \"+34987793816\", \"Home\"),\n",
    "            (\"Sonia Winters\", \"7185550404\", \"Mobile\"),\n",
    "            (\"Fallon Wilkes\", \"+12125550505\", \"Mobile\"),\n",
    "        ]\n",
    "    )"
   ]
  },
  {
   "cell_type": "code",
   "execution_count": 38,
   "id": "7deacf3b",
   "metadata": {},
   "outputs": [
    {
     "name": "stdout",
     "output_type": "stream",
     "text": [
      "4\n"
     ]
    }
   ],
   "source": [
    "print(result.rowcount)"
   ]
  },
  {
   "cell_type": "markdown",
   "id": "3001ad96",
   "metadata": {},
   "source": [
    "That seems to have worked! [*]\n",
    "\n",
    "[*]: If it didn't, you may have run some of the cells above multiple times, creating multiple records for the same contact -- follow the `DELETE` statement a few cells up to clean up\n",
    "\n",
    "How can we tell? It'd be nice if we could see a _joined_ table similar to the one we started with. Sure enough, SQL has a concept of a `JOIN` which joins two or more tables together. When we join tables together, we specify a column (or columns) to join _on_ -- in other words, we specify a value common between the two tables which will be used to glue corresponding records together. We can for instance query for all of Peter's phone numbers:"
   ]
  },
  {
   "cell_type": "code",
   "execution_count": 39,
   "id": "909e3a1c",
   "metadata": {},
   "outputs": [
    {
     "name": "stdout",
     "output_type": "stream",
     "text": [
      "{'name': 'Peter Parker', 'number': '(212) 555-1212'}\n",
      "{'name': 'Peter Parker', 'number': '(917) 555-0101'}\n"
     ]
    }
   ],
   "source": [
    "with connection:\n",
    "    rows = connection.execute(\n",
    "        \"\"\"\n",
    "        SELECT name, number\n",
    "        FROM contacts\n",
    "        JOIN phone_numbers ON contacts.id = phone_numbers.contact_id\n",
    "        WHERE contacts.name = \"Peter Parker\"\n",
    "        \"\"\"\n",
    "    )\n",
    "    for row in rows:\n",
    "        print(dict(row))"
   ]
  },
  {
   "cell_type": "markdown",
   "id": "4cd7491e",
   "metadata": {},
   "source": [
    "It's our `JOIN` that tells our database we want rows with matching contact ID.\n",
    "\n",
    "We can look at all rows, rather than just Peter's, to get phone numbers for all contacts:"
   ]
  },
  {
   "cell_type": "code",
   "execution_count": 40,
   "id": "7bee755e",
   "metadata": {},
   "outputs": [
    {
     "name": "stdout",
     "output_type": "stream",
     "text": [
      "{'name': 'Peter Parker', 'number': '(212) 555-1212'}\n",
      "{'name': 'Peter Parker', 'number': '(917) 555-0101'}\n",
      "{'name': 'Claire Boyle', 'number': '+34987793816'}\n",
      "{'name': 'Sonia Winters', 'number': '7185550404'}\n",
      "{'name': 'Fallon Wilkes', 'number': '+12125550505'}\n"
     ]
    }
   ],
   "source": [
    "with connection:\n",
    "    rows = connection.execute(\n",
    "        \"\"\"\n",
    "        SELECT name, number\n",
    "        FROM contacts\n",
    "        JOIN phone_numbers ON contacts.id = phone_numbers.contact_id\n",
    "        \"\"\"\n",
    "    )\n",
    "    for row in rows:\n",
    "        print(dict(row))"
   ]
  },
  {
   "cell_type": "markdown",
   "id": "792f750a",
   "metadata": {},
   "source": [
    "Notice that in the above queries, the name column comes from the `contacts` table, but the number column comes from the `phone_number` table.\n",
    "\n",
    "When column names are unambiguous, we don't need to specify which table they come from.\n",
    "\n",
    "If however we picked a column name which existed in multiple tables we were joining, we'd need to specify which one we meant to select.\n",
    "\n",
    "For instance, this query will error out:"
   ]
  },
  {
   "cell_type": "code",
   "execution_count": 41,
   "id": "ea033a59",
   "metadata": {},
   "outputs": [
    {
     "ename": "OperationalError",
     "evalue": "ambiguous column name: id",
     "output_type": "error",
     "traceback": [
      "\u001b[0;31m---------------------------------------------------------------------------\u001b[0m",
      "\u001b[0;31mOperationalError\u001b[0m                          Traceback (most recent call last)",
      "Input \u001b[0;32mIn [41]\u001b[0m, in \u001b[0;36m<module>\u001b[0;34m\u001b[0m\n\u001b[1;32m      1\u001b[0m \u001b[38;5;66;03m# raises an error\u001b[39;00m\n\u001b[1;32m      2\u001b[0m \u001b[38;5;28;01mwith\u001b[39;00m connection:\n\u001b[0;32m----> 3\u001b[0m     rows \u001b[38;5;241m=\u001b[39m \u001b[43mconnection\u001b[49m\u001b[38;5;241;43m.\u001b[39;49m\u001b[43mexecute\u001b[49m\u001b[43m(\u001b[49m\n\u001b[1;32m      4\u001b[0m \u001b[43m        \u001b[49m\u001b[38;5;124;43;03m\"\"\"\u001b[39;49;00m\n\u001b[1;32m      5\u001b[0m \u001b[38;5;124;43;03m        SELECT id, name, number\u001b[39;49;00m\n\u001b[1;32m      6\u001b[0m \u001b[38;5;124;43;03m        FROM contacts\u001b[39;49;00m\n\u001b[1;32m      7\u001b[0m \u001b[38;5;124;43;03m        JOIN phone_numbers ON contacts.id = phone_numbers.contact_id\u001b[39;49;00m\n\u001b[1;32m      8\u001b[0m \u001b[38;5;124;43;03m        \"\"\"\u001b[39;49;00m\n\u001b[1;32m      9\u001b[0m \u001b[43m    \u001b[49m\u001b[43m)\u001b[49m\n\u001b[1;32m     10\u001b[0m     \u001b[38;5;28;01mfor\u001b[39;00m row \u001b[38;5;129;01min\u001b[39;00m rows:\n\u001b[1;32m     11\u001b[0m         \u001b[38;5;28mprint\u001b[39m(\u001b[38;5;28mdict\u001b[39m(row))\n",
      "\u001b[0;31mOperationalError\u001b[0m: ambiguous column name: id"
     ]
    }
   ],
   "source": [
    "# raises an error\n",
    "with connection:\n",
    "    rows = connection.execute(\n",
    "        \"\"\"\n",
    "        SELECT id, name, number\n",
    "        FROM contacts\n",
    "        JOIN phone_numbers ON contacts.id = phone_numbers.contact_id\n",
    "        \"\"\"\n",
    "    )\n",
    "    for row in rows:\n",
    "        print(dict(row))"
   ]
  },
  {
   "cell_type": "markdown",
   "id": "29f92cc6",
   "metadata": {},
   "source": [
    "We need to be specific of _which_ table's `id` we're wanting:"
   ]
  },
  {
   "cell_type": "code",
   "execution_count": 42,
   "id": "34cfaeb5",
   "metadata": {},
   "outputs": [
    {
     "name": "stdout",
     "output_type": "stream",
     "text": [
      "{'id': 1, 'name': 'Peter Parker', 'number': '(212) 555-1212'}\n",
      "{'id': 1, 'name': 'Peter Parker', 'number': '(917) 555-0101'}\n",
      "{'id': 2, 'name': 'Claire Boyle', 'number': '+34987793816'}\n",
      "{'id': 3, 'name': 'Sonia Winters', 'number': '7185550404'}\n",
      "{'id': 4, 'name': 'Fallon Wilkes', 'number': '+12125550505'}\n"
     ]
    }
   ],
   "source": [
    "with connection:\n",
    "    rows = connection.execute(\n",
    "        \"\"\"\n",
    "        SELECT contacts.id, name, number\n",
    "        FROM contacts\n",
    "        JOIN phone_numbers ON contacts.id = phone_numbers.contact_id\n",
    "        \"\"\"\n",
    "    )\n",
    "    for row in rows:\n",
    "        print(dict(row))"
   ]
  },
  {
   "cell_type": "markdown",
   "id": "e7735585",
   "metadata": {},
   "source": [
    "We can also name (or rename) columns, both as part of a `JOIN` or otherwise using the `AS` keyword:"
   ]
  },
  {
   "cell_type": "code",
   "execution_count": 43,
   "id": "41da84b0",
   "metadata": {},
   "outputs": [
    {
     "name": "stdout",
     "output_type": "stream",
     "text": [
      "{'Contact ID': 1, 'Phone Number ID': 1, 'name': 'Peter Parker', 'number': '(212) 555-1212'}\n",
      "{'Contact ID': 1, 'Phone Number ID': 2, 'name': 'Peter Parker', 'number': '(917) 555-0101'}\n",
      "{'Contact ID': 2, 'Phone Number ID': 3, 'name': 'Claire Boyle', 'number': '+34987793816'}\n",
      "{'Contact ID': 3, 'Phone Number ID': 4, 'name': 'Sonia Winters', 'number': '7185550404'}\n",
      "{'Contact ID': 4, 'Phone Number ID': 5, 'name': 'Fallon Wilkes', 'number': '+12125550505'}\n"
     ]
    }
   ],
   "source": [
    "with connection:\n",
    "    rows = connection.execute(\n",
    "        \"\"\"\n",
    "        SELECT contacts.id AS \"Contact ID\",\n",
    "               phone_numbers.id AS \"Phone Number ID\",\n",
    "               name,\n",
    "               number\n",
    "        FROM contacts\n",
    "        JOIN phone_numbers ON contacts.id = phone_numbers.contact_id\n",
    "        \"\"\"\n",
    "    )\n",
    "    for row in rows:\n",
    "        print(dict(row))"
   ]
  },
  {
   "cell_type": "markdown",
   "id": "e9a14af1",
   "metadata": {},
   "source": [
    "### 9.2.6 Aggregations\n",
    "Sometimes we want to know how many contacts we have. We can do so for our entire table:"
   ]
  },
  {
   "cell_type": "code",
   "execution_count": 44,
   "id": "3648163f",
   "metadata": {},
   "outputs": [
    {
     "name": "stdout",
     "output_type": "stream",
     "text": [
      "6\n"
     ]
    }
   ],
   "source": [
    "with connection:\n",
    "    count, = connection.execute(\"SELECT COUNT(*) from contacts\").fetchone()\n",
    "    print(count)"
   ]
  },
  {
   "cell_type": "markdown",
   "id": "3ec716ad",
   "metadata": {},
   "source": [
    "Or for a query we ran:"
   ]
  },
  {
   "cell_type": "code",
   "execution_count": 45,
   "id": "e76360fc",
   "metadata": {},
   "outputs": [
    {
     "name": "stdout",
     "output_type": "stream",
     "text": [
      "3\n"
     ]
    }
   ],
   "source": [
    "with connection:\n",
    "    count, = connection.execute(\n",
    "        \"SELECT COUNT(*) from contacts WHERE email LIKE '%.edu'\"\n",
    "    ).fetchone()\n",
    "    print(count)"
   ]
  },
  {
   "cell_type": "markdown",
   "id": "dbbdee22",
   "metadata": {},
   "source": [
    "If we look back to our initial table, we had a single row for a contact, and then all of their phone numbers at once.\n",
    "\n",
    "Our current data model is more generic -- we can have 0 or arbitrarily many phone numbers.\n",
    "\n",
    "Sometimes we do indeed want to _group_ all of the phone numbers (or all of one column) by value -- for that we can use the `GROUP BY` clause to our `SELECT`, but there's something missing:"
   ]
  },
  {
   "cell_type": "code",
   "execution_count": 46,
   "id": "515a6b59",
   "metadata": {},
   "outputs": [
    {
     "name": "stdout",
     "output_type": "stream",
     "text": [
      "{'name': 'Peter Parker', 'number': '(212) 555-1212'}\n",
      "{'name': 'Claire Boyle', 'number': '+34987793816'}\n",
      "{'name': 'Sonia Winters', 'number': '7185550404'}\n",
      "{'name': 'Fallon Wilkes', 'number': '+12125550505'}\n"
     ]
    }
   ],
   "source": [
    "with connection:\n",
    "    results = connection.execute(\n",
    "        \"\"\"\n",
    "        SELECT name, number\n",
    "        FROM contacts JOIN phone_numbers\n",
    "        ON contacts.id = phone_numbers.contact_id\n",
    "        GROUP BY contacts.id\n",
    "        \"\"\"\n",
    "    )\n",
    "    for row in results:\n",
    "        print(dict(row))"
   ]
  },
  {
   "cell_type": "markdown",
   "id": "f3800bfa",
   "metadata": {},
   "source": [
    "In the above, we do get only one row for each contact (so Peter appears only once), but we've lost his second phone number. We need to decide where to \"put\" his other phone number -- if we want them to appear in the same column, we can _combine_ all of the rows using the `group_concat` SQL function:"
   ]
  },
  {
   "cell_type": "code",
   "execution_count": 47,
   "id": "38da4c77",
   "metadata": {},
   "outputs": [
    {
     "name": "stdout",
     "output_type": "stream",
     "text": [
      "{'name': 'Peter Parker', 'all_numbers': '(212) 555-1212, (917) 555-0101'}\n",
      "{'name': 'Claire Boyle', 'all_numbers': '+34987793816'}\n",
      "{'name': 'Sonia Winters', 'all_numbers': '7185550404'}\n",
      "{'name': 'Fallon Wilkes', 'all_numbers': '+12125550505'}\n"
     ]
    }
   ],
   "source": [
    "with connection:\n",
    "    results = connection.execute(\n",
    "        \"\"\"\n",
    "        SELECT name, group_concat(number, ', ') AS all_numbers\n",
    "        FROM contacts JOIN phone_numbers\n",
    "        ON contacts.id = phone_numbers.contact_id\n",
    "        GROUP BY contacts.id\n",
    "        \"\"\"\n",
    "    )\n",
    "    for row in results:\n",
    "        print(dict(row))"
   ]
  },
  {
   "cell_type": "markdown",
   "id": "f580eaf0",
   "metadata": {},
   "source": [
    "Notice that now we have every contact, with their numbers, and that both of Peter's numbers are present. If there were more than two numbers for a contact, we'd see all of them.\n",
    "\n",
    "Again however, consider whether this is exactly the form that's easiest to use. Here's how we instead might do this aggregation in Python, producing a different data _structure_ but one that might be more useful depending on what we wish to do with it:"
   ]
  },
  {
   "cell_type": "code",
   "execution_count": 48,
   "id": "86217c98",
   "metadata": {},
   "outputs": [
    {
     "name": "stdout",
     "output_type": "stream",
     "text": [
      "[{'id': 1, 'name': 'Peter Parker', 'all_numbers': ['(212) 555-1212', '(917) 555-0101']}, {'id': 2, 'name': 'Claire Boyle', 'all_numbers': ['+34987793816']}, {'id': 3, 'name': 'Sonia Winters', 'all_numbers': ['7185550404']}, {'id': 4, 'name': 'Fallon Wilkes', 'all_numbers': ['+12125550505']}]\n"
     ]
    }
   ],
   "source": [
    "contacts = {}\n",
    "\n",
    "with connection:\n",
    "    results = connection.execute(\n",
    "        \"\"\"\n",
    "        SELECT contacts.id AS id, name, number\n",
    "        FROM contacts JOIN phone_numbers\n",
    "        ON contacts.id = phone_numbers.contact_id\n",
    "        \"\"\"\n",
    "    )\n",
    "    for row in results:\n",
    "        if row[\"id\"] in contacts:\n",
    "            contacts[row[\"id\"]][\"all_numbers\"].append(row[\"number\"])\n",
    "        else:\n",
    "            contact = contacts[row[\"id\"]] = {\n",
    "                k : row[k] for k in row.keys() if k != \"number\"\n",
    "            }\n",
    "            contact[\"all_numbers\"] = [row[\"number\"]]\n",
    "\n",
    "print(list(contacts.values()))"
   ]
  },
  {
   "cell_type": "markdown",
   "id": "1cb4f95f",
   "metadata": {},
   "source": [
    "### 9.2.7 Join Types\n",
    "\n",
    "In general, there are 5 types of joins in SQL."
   ]
  },
  {
   "cell_type": "markdown",
   "id": "1a790618",
   "metadata": {},
   "source": [
    "![](https://docs.trifacta.com/download/attachments/160412683/JoinVennDiagram.png?version=1&modificationDate=1596167437085&api=v2)\n",
    "\n",
    "_The above image does not include the \"cross join\" type._"
   ]
  },
  {
   "cell_type": "markdown",
   "id": "f31a2cbb",
   "metadata": {},
   "source": [
    "* Inner join: only include results that match both the left and the right tables.\n",
    "* Right outer join: return all rows from the right side of the join, and only the matched rows on the left side of the join\n",
    "* Left outer join: return all the rows from the table on the left side of the join, and only the matched rows on the right side of the join\n",
    "* Full outer join: return all rows from both sides, even if the join condition is not met\n",
    "* Cross join: this is a cartesian product between two sides, and no join condition needed. "
   ]
  },
  {
   "cell_type": "markdown",
   "id": "79975031",
   "metadata": {},
   "source": [
    "### 9.2.8 Using SQLite Directly\n",
    "For a moment, let's explore using `SQLite` directly, without executing our SQL via Python.\n",
    "\n",
    "Recall that we can get ourselves a Linux machine from [Google Cloud Shell here](https://shell.cloud.google.com/) (You may again need to switch accounts if you are logged in to multiple Google Accounts). Or, you can start a Terminal from Jupyter.\n",
    "\n",
    "If using Google Cloud Shell, you can upload the `contacts.db` database from your computer to this Google Cloud Shell instance by clicking on the 3 dots menu and selecting \"Upload File\", and providing the `contacts.db` file. Once you've done so, it will be available in your cloud instance.\n",
    "\n",
    "Try running `sqlite3 contacts.db` on the Cloud Shell instance or in the Terminal -- you're taken into a _SQL REPL_ where you can directly type SQL commands. Here, you should know that SQL terminates queries with the `;` character, so until you type it, `sqlite` will wait for the end of your query. (From Python, it is implicitly added to the end of any call to `.execute`).\n",
    "\n",
    "```console\n",
    "$ sqlite3 contacts.db\n",
    "```\n",
    "```sql\n",
    "SQLite version 3.36.0 2021-06-18 18:58:49\n",
    "Enter \".help\" for usage hints.\n",
    "sqlite> SELECT * FROM contacts;\n",
    "1|Peter Parker|peter@example.edu\n",
    "2|Claire Boyle|claireb@example.com\n",
    "3|Sonia Winters|swinters@example.edu\n",
    "4|Fallon Wilkes|fallon@example.edu\n",
    "sqlite>\n",
    "```"
   ]
  },
  {
   "cell_type": "markdown",
   "id": "2144ed08",
   "metadata": {},
   "source": [
    "## 9.3 Other Databases\n",
    "In the above, we've used a database known as [sqlite](https://sqlite.org/index.html) -- a database which is both extremely common, available in the [Python standard library](https://docs.python.org/3/library/sqlite3.html), extrememly easy to set up, and nonetheless extremely powerful. `sqlite` stores the data we've put in it in a single file we've seen above.\n",
    "\n",
    "Whilst each database will have a slightly different _dialect_ of SQL (meaning it will vary slightly), you will likely find more commonalities between SQL dialects than differences, certainly amongst queries like `SELECT`ing data for analysis, so porting your knowledge to a new relational database is usually relatively straightforward. Nevertheless, holding the nuances or small differences between each in your head can be challenging, so it's OK to just re-learn the differences when presented with a different database engine.\n",
    "\n",
    "Three particular databases worth mentioning because of their ubiquity are:\n",
    "\n",
    "* [PostgreSQL](https://www.postgresql.org/) -- an extremely common advanced, open source relational database\n",
    "* [MySQL](https://www.mysql.com/) -- another similar open source relational database\n",
    "* [Google BigQuery](https://cloud.google.com/bigquery) -- technically not a database, moreso a data warehouse with a SQL query engine on top -- meaning a company you work for may store lots of their data somewhere within Google Cloud and then make you be able to run similar queries to the above in order to extract data from this warehouse\n",
    "\n",
    "You can try out BigQuery with the [public datasets](https://cloud.google.com/bigquery/public-data) that Google has made available. Specifically, here's one for [pubic PyPI download statistics](https://console.cloud.google.com/bigquery?p=bigquery-public-data&d=pypi&page=dataset) (where all the Python packages are stored; here are some [docs](https://packaging.python.org/en/latest/guides/analyzing-pypi-package-downloads/) too).\n",
    "\n",
    "There are also databases which are known as non-relational, whose structure does not necessarily deal with entities or tables that are related to other entities and joins between them. If you are interested in learning more about databases more broadly, you may find the [Seven Databases in Seven Days book](https://www.amazon.com/Seven-Databases-Weeks-Modern-Movement/dp/1934356921) interesting."
   ]
  },
  {
   "cell_type": "markdown",
   "id": "9ad5fcd1",
   "metadata": {},
   "source": [
    "## 9.4 Review of `SQL` Clauses and Keywords\n",
    "\n",
    "_(not exhaustive)_\n",
    "\n",
    "* `CREATE` creates a database object, e.g. a table.\n",
    "* `INSERT` adds rows of data to a table.\n",
    "* `SELECT` retrieves data from one or more tables. This does not alter the databaes or change data.\n",
    "* `FROM` indicates which table to use for the query.\n",
    "* `WHERE` identifies the rows a query should operate on (often used for filtering data when querying).\n",
    "* `JOIN` specifies how to combine and assemble data from multiple tables. Used with `ON` to establish relationship.\n",
    "* `GROUP BY` organizes output from a `SELECT` statement.\n",
    "* `ORDER BY` sorts the output from a query with `ASC` (default) and `DESC` on a certain column.\n",
    "* `AS` casts a column, table, or sub-query to a user-defined variable name.\n",
    "* `LIKE` is an operator for pattern matching comparison (often used when filtering data when querying).\n",
    "* `LIMIT` places an upper bound on the number of rows returned by an entire `SELECT` query."
   ]
  },
  {
   "cell_type": "markdown",
   "id": "9f6f22df",
   "metadata": {},
   "source": [
    "## 9.5 Appendix\n",
    "\n",
    "* Documentation of built-in SQLite functions:\n",
    "    * [Core](https://www.sqlite.org/lang_corefunc.html) \n",
    "    * [Date & Time](https://www.sqlite.org/lang_datefunc.html)\n",
    "    * [Aggregate functions](https://www.sqlite.org/lang_aggfunc.html)\n",
    "    * [Window functions](https://www.sqlite.org/windowfunctions.html)\n",
    "    * [Math functions](https://www.sqlite.org/lang_mathfunc.html)\n",
    "    * [JSON functions](https://www.sqlite.org/json1.html)\n",
    "* Extra learning resources:\n",
    "    * Khan Academy's [Intro to SQL: Querying and managing data](https://www.khanacademy.org/computing/computer-programming/sql)\n",
    "    * [Study guide](https://learn.saylor.org/mod/book/view.php?id=30449&chapterid=6290) from saylor.org academy's Introduction to Modern Database Systems\n",
    "* Extra practice resources:\n",
    "    * Guided [SQL practice](https://www.sql-practice.com/)\n",
    "    * Kaggle has a [tutorial with SQL and BigQuery](https://www.kaggle.com/learn/intro-to-sql), all in Python.\n",
    "    * [Learn SQL in stages](https://sqlzoo.net/wiki/SQL_Tutorial)\n",
    "* Visualize a SQLite database with this [free web-based application](https://inloop.github.io/sqlite-viewer/#) or this [free desktop-based application](https://sqlitebrowser.org/).\n",
    "\n",
    "## 9.6 Final Project Tips/Hints\n",
    "* The final project will require familiarity with the `WITH <name> AS` and `WITH RECURSIVE <name> AS` expressions in SQL. This is a [good resource](https://blog.expensify.com/2015/09/25/the-simplest-sqlite-common-table-expression-tutorial/) with a lot of examples to help get familiar.\n",
    "    * tip: there are quite a few examples using `UNION ALL` - this will help \"flatten\" tables that have common columns (e.g. fare amount, pickup dates, etc) into a singular shared column (for example, taxi fares and uber fares are in one column)\n",
    "    * tip: look at the example query that starts with `WITH RECURSIVE dates(x) AS` for help with the 6th query needed in the final project\n",
    "* This [Stack Overflow post](https://stackoverflow.com/questions/1123576/how-to-find-nth-percentile-with-sqlite) will be helpful when crafting queries for figuring out percentiles/quantiles (also in the final project)\n",
    "* This [Stack Overflow post](https://stackoverflow.com/questions/51441099/group-timestamp-by-hour-sqlite) will be helpful for grouping results by timeframe, e.g. by hour, day (also in the final project)"
   ]
  },
  {
   "cell_type": "code",
   "execution_count": null,
   "id": "ee92357d",
   "metadata": {},
   "outputs": [],
   "source": []
  }
 ],
 "metadata": {
  "kernelspec": {
   "display_name": "Python 3 (ipykernel)",
   "language": "python",
   "name": "python3"
  },
  "language_info": {
   "codemirror_mode": {
    "name": "ipython",
    "version": 3
   },
   "file_extension": ".py",
   "mimetype": "text/x-python",
   "name": "python",
   "nbconvert_exporter": "python",
   "pygments_lexer": "ipython3",
   "version": "3.9.13"
  }
 },
 "nbformat": 4,
 "nbformat_minor": 5
}
